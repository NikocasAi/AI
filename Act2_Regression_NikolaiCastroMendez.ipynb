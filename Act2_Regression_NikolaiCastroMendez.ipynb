{
  "nbformat": 4,
  "nbformat_minor": 0,
  "metadata": {
    "colab": {
      "name": "Act2_Regression_NikolaiCastroMendez.ipynb",
      "provenance": [],
      "authorship_tag": "ABX9TyPwjX8oX741/YyGY8b8yAEg",
      "include_colab_link": true
    },
    "kernelspec": {
      "name": "python3",
      "display_name": "Python 3"
    },
    "language_info": {
      "name": "python"
    }
  },
  "cells": [
    {
      "cell_type": "markdown",
      "metadata": {
        "id": "view-in-github",
        "colab_type": "text"
      },
      "source": [
        "<a href=\"https://colab.research.google.com/github/soynikolai/AI/blob/main/Act2_Regression_NikolaiCastroMendez.ipynb\" target=\"_parent\"><img src=\"https://colab.research.google.com/assets/colab-badge.svg\" alt=\"Open In Colab\"/></a>"
      ]
    },
    {
      "cell_type": "code",
      "source": [
        "import pathlib \n",
        "\n",
        "import matplotlib.pyplot as plt\n",
        "import pandas as pd\n",
        "import seaborn as sns\n",
        "\n",
        "import tensorflow as tf\n",
        "\n",
        "from tensorflow import keras\n",
        "from tensorflow.keras import layers\n",
        "\n",
        "print(tf.__version__)"
      ],
      "metadata": {
        "colab": {
          "base_uri": "https://localhost:8080/"
        },
        "id": "bOwXYT6lfBhy",
        "outputId": "fc5b92e8-af0d-4934-9468-9f575135aafc"
      },
      "execution_count": 1,
      "outputs": [
        {
          "output_type": "stream",
          "name": "stdout",
          "text": [
            "2.7.0\n"
          ]
        }
      ]
    },
    {
      "cell_type": "code",
      "execution_count": 2,
      "metadata": {
        "id": "HFAAt-Wq2LNq"
      },
      "outputs": [],
      "source": [
        "import pandas as pd\n",
        "from matplotlib import pyplot\n",
        "import matplotlib.pyplot as plt\n",
        "import matplotlib.image as pltimg\n",
        "import seaborn as sns\n",
        "from pandas.plotting import scatter_matrix\n",
        "\n",
        "\n",
        "from sklearn.tree import DecisionTreeRegressor\n",
        "from sklearn.model_selection import train_test_split\n",
        "from sklearn.metrics import r2_score, mean_squared_error, mean_absolute_error \n",
        "\n",
        "from sklearn.svm import SVC\n",
        "\n",
        "import tensorflow as tf\n",
        "from tensorflow import keras\n",
        "from tensorflow.keras import layers"
      ]
    },
    {
      "cell_type": "markdown",
      "source": [
        "Cargamos el dataset llamado \"**Violencia de Género**\" el cual es tomado de: https://www.datos.gov.co/Salud-y-Protecci-n-Social/Violencia-de-G-nero/sq8q-pnf5"
      ],
      "metadata": {
        "id": "l6-OA52C2ab7"
      }
    },
    {
      "cell_type": "code",
      "source": [
        "url='https://www.datos.gov.co/resource/sq8q-pnf5.csv'"
      ],
      "metadata": {
        "id": "ThbwNQkq5Vzq"
      },
      "execution_count": 3,
      "outputs": []
    },
    {
      "cell_type": "code",
      "source": [
        "datos=pd.read_csv(url) "
      ],
      "metadata": {
        "id": "21ljsjv62Xka"
      },
      "execution_count": 4,
      "outputs": []
    },
    {
      "cell_type": "code",
      "source": [
        "datos\n",
        "#Realizamos una visualizacion de los datos."
      ],
      "metadata": {
        "colab": {
          "base_uri": "https://localhost:8080/",
          "height": 1000
        },
        "id": "xVQLKBYW6l05",
        "outputId": "70a2940f-8ea2-4238-9518-ebffafab9b9c"
      },
      "execution_count": 5,
      "outputs": [
        {
          "output_type": "execute_result",
          "data": {
            "text/html": [
              "\n",
              "  <div id=\"df-ec3957e3-1103-4d4f-8878-a77e6bdf38bb\">\n",
              "    <div class=\"colab-df-container\">\n",
              "      <div>\n",
              "<style scoped>\n",
              "    .dataframe tbody tr th:only-of-type {\n",
              "        vertical-align: middle;\n",
              "    }\n",
              "\n",
              "    .dataframe tbody tr th {\n",
              "        vertical-align: top;\n",
              "    }\n",
              "\n",
              "    .dataframe thead th {\n",
              "        text-align: right;\n",
              "    }\n",
              "</style>\n",
              "<table border=\"1\" class=\"dataframe\">\n",
              "  <thead>\n",
              "    <tr style=\"text-align: right;\">\n",
              "      <th></th>\n",
              "      <th>orden</th>\n",
              "      <th>departamento</th>\n",
              "      <th>municipio</th>\n",
              "      <th>semana</th>\n",
              "      <th>a_o</th>\n",
              "      <th>grupo_edad</th>\n",
              "      <th>ciclo_de_vida</th>\n",
              "      <th>sexo_</th>\n",
              "      <th>area_</th>\n",
              "      <th>bar_ver_2</th>\n",
              "      <th>num_nombcom</th>\n",
              "      <th>tip_ss_</th>\n",
              "      <th>pac_hos_</th>\n",
              "      <th>con_fin_</th>\n",
              "      <th>version</th>\n",
              "      <th>naturaleza</th>\n",
              "      <th>def_naturaleza</th>\n",
              "      <th>actividad</th>\n",
              "      <th>nom_actividad</th>\n",
              "      <th>edad_agre</th>\n",
              "      <th>sexo_agre</th>\n",
              "      <th>parentezco_vict</th>\n",
              "      <th>sust_vict</th>\n",
              "      <th>fec_hecho</th>\n",
              "      <th>hora_hecho</th>\n",
              "      <th>escenario</th>\n",
              "      <th>zona_conf</th>\n",
              "      <th>nom_eve</th>\n",
              "      <th>nom_upgd</th>\n",
              "      <th>ndep_resi</th>\n",
              "      <th>nmun_resi</th>\n",
              "      <th>mes</th>\n",
              "    </tr>\n",
              "  </thead>\n",
              "  <tbody>\n",
              "    <tr>\n",
              "      <th>0</th>\n",
              "      <td>249</td>\n",
              "      <td>SANTANDER</td>\n",
              "      <td>BUCARAMANGA</td>\n",
              "      <td>13</td>\n",
              "      <td>2015</td>\n",
              "      <td>18 a 28</td>\n",
              "      <td>Jovenes</td>\n",
              "      <td>Femenino</td>\n",
              "      <td>CABECERA  MUNICIPAL</td>\n",
              "      <td>Sin Información</td>\n",
              "      <td>Sin información</td>\n",
              "      <td>Subsidiado</td>\n",
              "      <td>2</td>\n",
              "      <td>VIVO</td>\n",
              "      <td>SIVIGILA - 2015 - 15.1.3</td>\n",
              "      <td>1</td>\n",
              "      <td>Violencia fisica</td>\n",
              "      <td>26</td>\n",
              "      <td>Otro</td>\n",
              "      <td>32</td>\n",
              "      <td>MASCULINO</td>\n",
              "      <td>Esposo</td>\n",
              "      <td>2</td>\n",
              "      <td>2015-01-01T00:00:00.000</td>\n",
              "      <td>1899-12-31T00:00:00.000</td>\n",
              "      <td>2</td>\n",
              "      <td>0</td>\n",
              "      <td>VIGILANCIA EN SALUD PÚBLICA DE LAS VIOLENCIAS ...</td>\n",
              "      <td>HOSPITAL LOCAL DE NORTE</td>\n",
              "      <td>SANTANDER</td>\n",
              "      <td>BUCARAMANGA</td>\n",
              "      <td>enero</td>\n",
              "    </tr>\n",
              "    <tr>\n",
              "      <th>1</th>\n",
              "      <td>267</td>\n",
              "      <td>SANTANDER</td>\n",
              "      <td>BUCARAMANGA</td>\n",
              "      <td>38</td>\n",
              "      <td>2015</td>\n",
              "      <td>18 a 28</td>\n",
              "      <td>Jovenes</td>\n",
              "      <td>Femenino</td>\n",
              "      <td>CABECERA  MUNICIPAL</td>\n",
              "      <td>Sin Información</td>\n",
              "      <td>Sin información</td>\n",
              "      <td>Contributivo</td>\n",
              "      <td>1</td>\n",
              "      <td>VIVO</td>\n",
              "      <td>SIVIGILA - 2015 - 15.1.3</td>\n",
              "      <td>3</td>\n",
              "      <td>Negligencia y abandono</td>\n",
              "      <td>26</td>\n",
              "      <td>Otro</td>\n",
              "      <td>0</td>\n",
              "      <td>MASCULINO</td>\n",
              "      <td>Otros</td>\n",
              "      <td>2</td>\n",
              "      <td>2015-01-01T00:00:00.000</td>\n",
              "      <td>1899-12-31T20:00:00.000</td>\n",
              "      <td>7</td>\n",
              "      <td>0</td>\n",
              "      <td>VIGILANCIA EN SALUD PÚBLICA DE LAS VIOLENCIAS ...</td>\n",
              "      <td>CLINICA CAÑAVERAL</td>\n",
              "      <td>SANTANDER</td>\n",
              "      <td>BUCARAMANGA</td>\n",
              "      <td>enero</td>\n",
              "    </tr>\n",
              "    <tr>\n",
              "      <th>2</th>\n",
              "      <td>362</td>\n",
              "      <td>SANTANDER</td>\n",
              "      <td>BUCARAMANGA</td>\n",
              "      <td>1</td>\n",
              "      <td>2015</td>\n",
              "      <td>60 y mas</td>\n",
              "      <td>Persona Mayor</td>\n",
              "      <td>Femenino</td>\n",
              "      <td>CABECERA  MUNICIPAL</td>\n",
              "      <td>Sin Información</td>\n",
              "      <td>Sin información</td>\n",
              "      <td>Subsidiado</td>\n",
              "      <td>2</td>\n",
              "      <td>VIVO</td>\n",
              "      <td>SIVIGILA - 2015 - 15.1.0</td>\n",
              "      <td>3</td>\n",
              "      <td>Negligencia y abandono</td>\n",
              "      <td>26</td>\n",
              "      <td>Otro</td>\n",
              "      <td>63</td>\n",
              "      <td>FEMENINO</td>\n",
              "      <td>Hijo</td>\n",
              "      <td>2</td>\n",
              "      <td>2015-01-04T00:00:00.000</td>\n",
              "      <td>1899-12-31T04:30:00.000</td>\n",
              "      <td>2</td>\n",
              "      <td>0</td>\n",
              "      <td>VIGILANCIA EN SALUD PÚBLICA DE LAS VIOLENCIAS ...</td>\n",
              "      <td>RETROALIMENTACIÓN</td>\n",
              "      <td>SANTANDER</td>\n",
              "      <td>FLORIDABLANCA</td>\n",
              "      <td>enero</td>\n",
              "    </tr>\n",
              "    <tr>\n",
              "      <th>3</th>\n",
              "      <td>267</td>\n",
              "      <td>SANTANDER</td>\n",
              "      <td>BUCARAMANGA</td>\n",
              "      <td>1</td>\n",
              "      <td>2015</td>\n",
              "      <td>18 a 28</td>\n",
              "      <td>Jovenes</td>\n",
              "      <td>Femenino</td>\n",
              "      <td>CABECERA  MUNICIPAL</td>\n",
              "      <td>LUZ DE ESPERANZA</td>\n",
              "      <td>1 NORTE</td>\n",
              "      <td>Contributivo</td>\n",
              "      <td>1</td>\n",
              "      <td>VIVO</td>\n",
              "      <td>SIVIGILA - 2015 - 15.1.0</td>\n",
              "      <td>3</td>\n",
              "      <td>Negligencia y abandono</td>\n",
              "      <td>26</td>\n",
              "      <td>Otro</td>\n",
              "      <td>27</td>\n",
              "      <td>FEMENINO</td>\n",
              "      <td>Madre</td>\n",
              "      <td>2</td>\n",
              "      <td>2015-01-04T00:00:00.000</td>\n",
              "      <td>1899-12-31T10:00:00.000</td>\n",
              "      <td>2</td>\n",
              "      <td>2</td>\n",
              "      <td>VIGILANCIA EN SALUD PÚBLICA DE LAS VIOLENCIAS ...</td>\n",
              "      <td>RETROALIMENTACIÓN</td>\n",
              "      <td>SANTANDER</td>\n",
              "      <td>BUCARAMANGA</td>\n",
              "      <td>enero</td>\n",
              "    </tr>\n",
              "    <tr>\n",
              "      <th>4</th>\n",
              "      <td>283</td>\n",
              "      <td>SANTANDER</td>\n",
              "      <td>BUCARAMANGA</td>\n",
              "      <td>1</td>\n",
              "      <td>2015</td>\n",
              "      <td>6 a 11</td>\n",
              "      <td>Infancia</td>\n",
              "      <td>Femenino</td>\n",
              "      <td>CABECERA  MUNICIPAL</td>\n",
              "      <td>MANUELA BELTRAN</td>\n",
              "      <td>11 SUR</td>\n",
              "      <td>Subsidiado</td>\n",
              "      <td>1</td>\n",
              "      <td>VIVO</td>\n",
              "      <td>SIVIGILA - 2015 - 15.1.0</td>\n",
              "      <td>4</td>\n",
              "      <td>Abuso sexual</td>\n",
              "      <td>24</td>\n",
              "      <td>Estudiante</td>\n",
              "      <td>22</td>\n",
              "      <td>MASCULINO</td>\n",
              "      <td>Primo (a)</td>\n",
              "      <td>2</td>\n",
              "      <td>2015-01-04T00:00:00.000</td>\n",
              "      <td>1899-12-31T19:00:00.000</td>\n",
              "      <td>2</td>\n",
              "      <td>0</td>\n",
              "      <td>VIGILANCIA EN SALUD PÚBLICA DE LAS VIOLENCIAS ...</td>\n",
              "      <td>CLINICA MATERNO INFANTIL SAN LUIS SA</td>\n",
              "      <td>SANTANDER</td>\n",
              "      <td>BUCARAMANGA</td>\n",
              "      <td>enero</td>\n",
              "    </tr>\n",
              "    <tr>\n",
              "      <th>...</th>\n",
              "      <td>...</td>\n",
              "      <td>...</td>\n",
              "      <td>...</td>\n",
              "      <td>...</td>\n",
              "      <td>...</td>\n",
              "      <td>...</td>\n",
              "      <td>...</td>\n",
              "      <td>...</td>\n",
              "      <td>...</td>\n",
              "      <td>...</td>\n",
              "      <td>...</td>\n",
              "      <td>...</td>\n",
              "      <td>...</td>\n",
              "      <td>...</td>\n",
              "      <td>...</td>\n",
              "      <td>...</td>\n",
              "      <td>...</td>\n",
              "      <td>...</td>\n",
              "      <td>...</td>\n",
              "      <td>...</td>\n",
              "      <td>...</td>\n",
              "      <td>...</td>\n",
              "      <td>...</td>\n",
              "      <td>...</td>\n",
              "      <td>...</td>\n",
              "      <td>...</td>\n",
              "      <td>...</td>\n",
              "      <td>...</td>\n",
              "      <td>...</td>\n",
              "      <td>...</td>\n",
              "      <td>...</td>\n",
              "      <td>...</td>\n",
              "    </tr>\n",
              "    <tr>\n",
              "      <th>995</th>\n",
              "      <td>415</td>\n",
              "      <td>SANTANDER</td>\n",
              "      <td>BUCARAMANGA</td>\n",
              "      <td>30</td>\n",
              "      <td>2015</td>\n",
              "      <td>12 a 17</td>\n",
              "      <td>Adolescencia</td>\n",
              "      <td>Femenino</td>\n",
              "      <td>CABECERA  MUNICIPAL</td>\n",
              "      <td>NaN</td>\n",
              "      <td>2 NORORIENTAL</td>\n",
              "      <td>Subsidiado</td>\n",
              "      <td>2</td>\n",
              "      <td>VIVO</td>\n",
              "      <td>SIVIGILA - 2015 - 15.1.3</td>\n",
              "      <td>1</td>\n",
              "      <td>Violencia fisica</td>\n",
              "      <td>24</td>\n",
              "      <td>Estudiante</td>\n",
              "      <td>17</td>\n",
              "      <td>FEMENINO</td>\n",
              "      <td>Otros</td>\n",
              "      <td>2</td>\n",
              "      <td>2015-07-26T00:00:00.000</td>\n",
              "      <td>1899-12-31T02:00:00.000</td>\n",
              "      <td>1</td>\n",
              "      <td>2</td>\n",
              "      <td>VIGILANCIA EN SALUD PÚBLICA DE LAS VIOLENCIAS ...</td>\n",
              "      <td>HOSPITAL LOCAL DE NORTE</td>\n",
              "      <td>SANTANDER</td>\n",
              "      <td>BUCARAMANGA</td>\n",
              "      <td>julio</td>\n",
              "    </tr>\n",
              "    <tr>\n",
              "      <th>996</th>\n",
              "      <td>827</td>\n",
              "      <td>SANTANDER</td>\n",
              "      <td>BUCARAMANGA</td>\n",
              "      <td>30</td>\n",
              "      <td>2015</td>\n",
              "      <td>1 a 5</td>\n",
              "      <td>Primera infancia</td>\n",
              "      <td>Masculino</td>\n",
              "      <td>CABECERA  MUNICIPAL</td>\n",
              "      <td>VILLAS DE GIRARDOT</td>\n",
              "      <td>4 OCCIDENTAL</td>\n",
              "      <td>Subsidiado</td>\n",
              "      <td>2</td>\n",
              "      <td>VIVO</td>\n",
              "      <td>SIVIGILA - 2015 - 15.1.3</td>\n",
              "      <td>3</td>\n",
              "      <td>Negligencia y abandono</td>\n",
              "      <td>26</td>\n",
              "      <td>Otro</td>\n",
              "      <td>20</td>\n",
              "      <td>FEMENINO</td>\n",
              "      <td>Madre</td>\n",
              "      <td>2</td>\n",
              "      <td>2015-07-26T00:00:00.000</td>\n",
              "      <td>1899-12-31T10:00:00.000</td>\n",
              "      <td>1</td>\n",
              "      <td>2</td>\n",
              "      <td>VIGILANCIA EN SALUD PÚBLICA DE LAS VIOLENCIAS ...</td>\n",
              "      <td>UIMIST</td>\n",
              "      <td>SANTANDER</td>\n",
              "      <td>BUCARAMANGA</td>\n",
              "      <td>julio</td>\n",
              "    </tr>\n",
              "    <tr>\n",
              "      <th>997</th>\n",
              "      <td>920</td>\n",
              "      <td>SANTANDER</td>\n",
              "      <td>BUCARAMANGA</td>\n",
              "      <td>46</td>\n",
              "      <td>2015</td>\n",
              "      <td>12 a 17</td>\n",
              "      <td>Adolescencia</td>\n",
              "      <td>Femenino</td>\n",
              "      <td>CABECERA  MUNICIPAL</td>\n",
              "      <td>ESPAÑA</td>\n",
              "      <td>8 SUR OCCIDENTE</td>\n",
              "      <td>Subsidiado</td>\n",
              "      <td>1</td>\n",
              "      <td>VIVO</td>\n",
              "      <td>SIVIGILA - 2015 - 15.1.3</td>\n",
              "      <td>4</td>\n",
              "      <td>Abuso sexual</td>\n",
              "      <td>24</td>\n",
              "      <td>Estudiante</td>\n",
              "      <td>27</td>\n",
              "      <td>MASCULINO</td>\n",
              "      <td>Madre</td>\n",
              "      <td>1</td>\n",
              "      <td>2015-07-27T00:00:00.000</td>\n",
              "      <td>1899-12-31T08:00:00.000</td>\n",
              "      <td>2</td>\n",
              "      <td>0</td>\n",
              "      <td>VIGILANCIA EN SALUD PÚBLICA DE LAS VIOLENCIAS ...</td>\n",
              "      <td>HOSPITAL UNIVERSITARIO DE SANTANDER</td>\n",
              "      <td>SANTANDER</td>\n",
              "      <td>BUCARAMANGA</td>\n",
              "      <td>julio</td>\n",
              "    </tr>\n",
              "    <tr>\n",
              "      <th>998</th>\n",
              "      <td>926</td>\n",
              "      <td>SANTANDER</td>\n",
              "      <td>BUCARAMANGA</td>\n",
              "      <td>30</td>\n",
              "      <td>2015</td>\n",
              "      <td>6 a 11</td>\n",
              "      <td>Infancia</td>\n",
              "      <td>Masculino</td>\n",
              "      <td>CABECERA  MUNICIPAL</td>\n",
              "      <td>ESPERANZA 2</td>\n",
              "      <td>2 NORORIENTAL</td>\n",
              "      <td>Subsidiado</td>\n",
              "      <td>2</td>\n",
              "      <td>VIVO</td>\n",
              "      <td>SIVIGILA - 2015 - 15.1.3</td>\n",
              "      <td>3</td>\n",
              "      <td>Negligencia y abandono</td>\n",
              "      <td>26</td>\n",
              "      <td>Otro</td>\n",
              "      <td>36</td>\n",
              "      <td>FEMENINO</td>\n",
              "      <td>Madre</td>\n",
              "      <td>2</td>\n",
              "      <td>2015-07-27T00:00:00.000</td>\n",
              "      <td>1899-12-31T00:00:00.000</td>\n",
              "      <td>1</td>\n",
              "      <td>2</td>\n",
              "      <td>VIGILANCIA EN SALUD PÚBLICA DE LAS VIOLENCIAS ...</td>\n",
              "      <td>HOSPITAL LOCAL DE NORTE</td>\n",
              "      <td>SANTANDER</td>\n",
              "      <td>BUCARAMANGA</td>\n",
              "      <td>julio</td>\n",
              "    </tr>\n",
              "    <tr>\n",
              "      <th>999</th>\n",
              "      <td>67</td>\n",
              "      <td>SANTANDER</td>\n",
              "      <td>BUCARAMANGA</td>\n",
              "      <td>30</td>\n",
              "      <td>2015</td>\n",
              "      <td>60 y mas</td>\n",
              "      <td>Persona Mayor</td>\n",
              "      <td>Masculino</td>\n",
              "      <td>CABECERA  MUNICIPAL</td>\n",
              "      <td>GRANJAS DE JULIO RIN</td>\n",
              "      <td>11 SUR</td>\n",
              "      <td>Subsidiado</td>\n",
              "      <td>2</td>\n",
              "      <td>VIVO</td>\n",
              "      <td>SIVIGILA - 2015 - 15.1.3</td>\n",
              "      <td>3</td>\n",
              "      <td>Negligencia y abandono</td>\n",
              "      <td>26</td>\n",
              "      <td>Otro</td>\n",
              "      <td>0</td>\n",
              "      <td>MASCULINO</td>\n",
              "      <td>Otros</td>\n",
              "      <td>2</td>\n",
              "      <td>2015-07-27T00:00:00.000</td>\n",
              "      <td>1899-12-31T00:00:00.000</td>\n",
              "      <td>2</td>\n",
              "      <td>0</td>\n",
              "      <td>VIGILANCIA EN SALUD PÚBLICA DE LAS VIOLENCIAS ...</td>\n",
              "      <td>CENTRO DE SALUD TOLEDO PLATA</td>\n",
              "      <td>SANTANDER</td>\n",
              "      <td>BUCARAMANGA</td>\n",
              "      <td>julio</td>\n",
              "    </tr>\n",
              "  </tbody>\n",
              "</table>\n",
              "<p>1000 rows × 32 columns</p>\n",
              "</div>\n",
              "      <button class=\"colab-df-convert\" onclick=\"convertToInteractive('df-ec3957e3-1103-4d4f-8878-a77e6bdf38bb')\"\n",
              "              title=\"Convert this dataframe to an interactive table.\"\n",
              "              style=\"display:none;\">\n",
              "        \n",
              "  <svg xmlns=\"http://www.w3.org/2000/svg\" height=\"24px\"viewBox=\"0 0 24 24\"\n",
              "       width=\"24px\">\n",
              "    <path d=\"M0 0h24v24H0V0z\" fill=\"none\"/>\n",
              "    <path d=\"M18.56 5.44l.94 2.06.94-2.06 2.06-.94-2.06-.94-.94-2.06-.94 2.06-2.06.94zm-11 1L8.5 8.5l.94-2.06 2.06-.94-2.06-.94L8.5 2.5l-.94 2.06-2.06.94zm10 10l.94 2.06.94-2.06 2.06-.94-2.06-.94-.94-2.06-.94 2.06-2.06.94z\"/><path d=\"M17.41 7.96l-1.37-1.37c-.4-.4-.92-.59-1.43-.59-.52 0-1.04.2-1.43.59L10.3 9.45l-7.72 7.72c-.78.78-.78 2.05 0 2.83L4 21.41c.39.39.9.59 1.41.59.51 0 1.02-.2 1.41-.59l7.78-7.78 2.81-2.81c.8-.78.8-2.07 0-2.86zM5.41 20L4 18.59l7.72-7.72 1.47 1.35L5.41 20z\"/>\n",
              "  </svg>\n",
              "      </button>\n",
              "      \n",
              "  <style>\n",
              "    .colab-df-container {\n",
              "      display:flex;\n",
              "      flex-wrap:wrap;\n",
              "      gap: 12px;\n",
              "    }\n",
              "\n",
              "    .colab-df-convert {\n",
              "      background-color: #E8F0FE;\n",
              "      border: none;\n",
              "      border-radius: 50%;\n",
              "      cursor: pointer;\n",
              "      display: none;\n",
              "      fill: #1967D2;\n",
              "      height: 32px;\n",
              "      padding: 0 0 0 0;\n",
              "      width: 32px;\n",
              "    }\n",
              "\n",
              "    .colab-df-convert:hover {\n",
              "      background-color: #E2EBFA;\n",
              "      box-shadow: 0px 1px 2px rgba(60, 64, 67, 0.3), 0px 1px 3px 1px rgba(60, 64, 67, 0.15);\n",
              "      fill: #174EA6;\n",
              "    }\n",
              "\n",
              "    [theme=dark] .colab-df-convert {\n",
              "      background-color: #3B4455;\n",
              "      fill: #D2E3FC;\n",
              "    }\n",
              "\n",
              "    [theme=dark] .colab-df-convert:hover {\n",
              "      background-color: #434B5C;\n",
              "      box-shadow: 0px 1px 3px 1px rgba(0, 0, 0, 0.15);\n",
              "      filter: drop-shadow(0px 1px 2px rgba(0, 0, 0, 0.3));\n",
              "      fill: #FFFFFF;\n",
              "    }\n",
              "  </style>\n",
              "\n",
              "      <script>\n",
              "        const buttonEl =\n",
              "          document.querySelector('#df-ec3957e3-1103-4d4f-8878-a77e6bdf38bb button.colab-df-convert');\n",
              "        buttonEl.style.display =\n",
              "          google.colab.kernel.accessAllowed ? 'block' : 'none';\n",
              "\n",
              "        async function convertToInteractive(key) {\n",
              "          const element = document.querySelector('#df-ec3957e3-1103-4d4f-8878-a77e6bdf38bb');\n",
              "          const dataTable =\n",
              "            await google.colab.kernel.invokeFunction('convertToInteractive',\n",
              "                                                     [key], {});\n",
              "          if (!dataTable) return;\n",
              "\n",
              "          const docLinkHtml = 'Like what you see? Visit the ' +\n",
              "            '<a target=\"_blank\" href=https://colab.research.google.com/notebooks/data_table.ipynb>data table notebook</a>'\n",
              "            + ' to learn more about interactive tables.';\n",
              "          element.innerHTML = '';\n",
              "          dataTable['output_type'] = 'display_data';\n",
              "          await google.colab.output.renderOutput(dataTable, element);\n",
              "          const docLink = document.createElement('div');\n",
              "          docLink.innerHTML = docLinkHtml;\n",
              "          element.appendChild(docLink);\n",
              "        }\n",
              "      </script>\n",
              "    </div>\n",
              "  </div>\n",
              "  "
            ],
            "text/plain": [
              "     orden departamento    municipio  ...  ndep_resi      nmun_resi    mes\n",
              "0      249    SANTANDER  BUCARAMANGA  ...  SANTANDER    BUCARAMANGA  enero\n",
              "1      267    SANTANDER  BUCARAMANGA  ...  SANTANDER    BUCARAMANGA  enero\n",
              "2      362    SANTANDER  BUCARAMANGA  ...  SANTANDER  FLORIDABLANCA  enero\n",
              "3      267    SANTANDER  BUCARAMANGA  ...  SANTANDER    BUCARAMANGA  enero\n",
              "4      283    SANTANDER  BUCARAMANGA  ...  SANTANDER    BUCARAMANGA  enero\n",
              "..     ...          ...          ...  ...        ...            ...    ...\n",
              "995    415    SANTANDER  BUCARAMANGA  ...  SANTANDER    BUCARAMANGA  julio\n",
              "996    827    SANTANDER  BUCARAMANGA  ...  SANTANDER    BUCARAMANGA  julio\n",
              "997    920    SANTANDER  BUCARAMANGA  ...  SANTANDER    BUCARAMANGA  julio\n",
              "998    926    SANTANDER  BUCARAMANGA  ...  SANTANDER    BUCARAMANGA  julio\n",
              "999     67    SANTANDER  BUCARAMANGA  ...  SANTANDER    BUCARAMANGA  julio\n",
              "\n",
              "[1000 rows x 32 columns]"
            ]
          },
          "metadata": {},
          "execution_count": 5
        }
      ]
    },
    {
      "cell_type": "code",
      "source": [
        "print(datos.shape)"
      ],
      "metadata": {
        "colab": {
          "base_uri": "https://localhost:8080/"
        },
        "id": "jS_o7vc26yVW",
        "outputId": "3c55ab7e-c17e-4cdb-8a72-d89e5fb789ef"
      },
      "execution_count": 6,
      "outputs": [
        {
          "output_type": "stream",
          "name": "stdout",
          "text": [
            "(1000, 32)\n"
          ]
        }
      ]
    },
    {
      "cell_type": "code",
      "source": [
        "datos2 = datos.filter(items = [\"grupo_edad\", \"ciclo_de_vida\", \"sexo_\", \"def_naturaleza\", \"sexo_agre\", \"parentezco_vict\", \"mes\" ])\n",
        "\n",
        "#Filtramos el dataset y seleccionamos 7 atributos."
      ],
      "metadata": {
        "id": "sd96-_DTC8D8"
      },
      "execution_count": 7,
      "outputs": []
    },
    {
      "cell_type": "code",
      "source": [
        "datos2"
      ],
      "metadata": {
        "colab": {
          "base_uri": "https://localhost:8080/",
          "height": 423
        },
        "id": "8E1bhoE6EmhW",
        "outputId": "7eff043a-182c-457c-89fe-7a82f3340dcb"
      },
      "execution_count": 8,
      "outputs": [
        {
          "output_type": "execute_result",
          "data": {
            "text/html": [
              "\n",
              "  <div id=\"df-eaffe4a3-22e4-4868-8980-b9bf6b4a3b4f\">\n",
              "    <div class=\"colab-df-container\">\n",
              "      <div>\n",
              "<style scoped>\n",
              "    .dataframe tbody tr th:only-of-type {\n",
              "        vertical-align: middle;\n",
              "    }\n",
              "\n",
              "    .dataframe tbody tr th {\n",
              "        vertical-align: top;\n",
              "    }\n",
              "\n",
              "    .dataframe thead th {\n",
              "        text-align: right;\n",
              "    }\n",
              "</style>\n",
              "<table border=\"1\" class=\"dataframe\">\n",
              "  <thead>\n",
              "    <tr style=\"text-align: right;\">\n",
              "      <th></th>\n",
              "      <th>grupo_edad</th>\n",
              "      <th>ciclo_de_vida</th>\n",
              "      <th>sexo_</th>\n",
              "      <th>def_naturaleza</th>\n",
              "      <th>sexo_agre</th>\n",
              "      <th>parentezco_vict</th>\n",
              "      <th>mes</th>\n",
              "    </tr>\n",
              "  </thead>\n",
              "  <tbody>\n",
              "    <tr>\n",
              "      <th>0</th>\n",
              "      <td>18 a 28</td>\n",
              "      <td>Jovenes</td>\n",
              "      <td>Femenino</td>\n",
              "      <td>Violencia fisica</td>\n",
              "      <td>MASCULINO</td>\n",
              "      <td>Esposo</td>\n",
              "      <td>enero</td>\n",
              "    </tr>\n",
              "    <tr>\n",
              "      <th>1</th>\n",
              "      <td>18 a 28</td>\n",
              "      <td>Jovenes</td>\n",
              "      <td>Femenino</td>\n",
              "      <td>Negligencia y abandono</td>\n",
              "      <td>MASCULINO</td>\n",
              "      <td>Otros</td>\n",
              "      <td>enero</td>\n",
              "    </tr>\n",
              "    <tr>\n",
              "      <th>2</th>\n",
              "      <td>60 y mas</td>\n",
              "      <td>Persona Mayor</td>\n",
              "      <td>Femenino</td>\n",
              "      <td>Negligencia y abandono</td>\n",
              "      <td>FEMENINO</td>\n",
              "      <td>Hijo</td>\n",
              "      <td>enero</td>\n",
              "    </tr>\n",
              "    <tr>\n",
              "      <th>3</th>\n",
              "      <td>18 a 28</td>\n",
              "      <td>Jovenes</td>\n",
              "      <td>Femenino</td>\n",
              "      <td>Negligencia y abandono</td>\n",
              "      <td>FEMENINO</td>\n",
              "      <td>Madre</td>\n",
              "      <td>enero</td>\n",
              "    </tr>\n",
              "    <tr>\n",
              "      <th>4</th>\n",
              "      <td>6 a 11</td>\n",
              "      <td>Infancia</td>\n",
              "      <td>Femenino</td>\n",
              "      <td>Abuso sexual</td>\n",
              "      <td>MASCULINO</td>\n",
              "      <td>Primo (a)</td>\n",
              "      <td>enero</td>\n",
              "    </tr>\n",
              "    <tr>\n",
              "      <th>...</th>\n",
              "      <td>...</td>\n",
              "      <td>...</td>\n",
              "      <td>...</td>\n",
              "      <td>...</td>\n",
              "      <td>...</td>\n",
              "      <td>...</td>\n",
              "      <td>...</td>\n",
              "    </tr>\n",
              "    <tr>\n",
              "      <th>995</th>\n",
              "      <td>12 a 17</td>\n",
              "      <td>Adolescencia</td>\n",
              "      <td>Femenino</td>\n",
              "      <td>Violencia fisica</td>\n",
              "      <td>FEMENINO</td>\n",
              "      <td>Otros</td>\n",
              "      <td>julio</td>\n",
              "    </tr>\n",
              "    <tr>\n",
              "      <th>996</th>\n",
              "      <td>1 a 5</td>\n",
              "      <td>Primera infancia</td>\n",
              "      <td>Masculino</td>\n",
              "      <td>Negligencia y abandono</td>\n",
              "      <td>FEMENINO</td>\n",
              "      <td>Madre</td>\n",
              "      <td>julio</td>\n",
              "    </tr>\n",
              "    <tr>\n",
              "      <th>997</th>\n",
              "      <td>12 a 17</td>\n",
              "      <td>Adolescencia</td>\n",
              "      <td>Femenino</td>\n",
              "      <td>Abuso sexual</td>\n",
              "      <td>MASCULINO</td>\n",
              "      <td>Madre</td>\n",
              "      <td>julio</td>\n",
              "    </tr>\n",
              "    <tr>\n",
              "      <th>998</th>\n",
              "      <td>6 a 11</td>\n",
              "      <td>Infancia</td>\n",
              "      <td>Masculino</td>\n",
              "      <td>Negligencia y abandono</td>\n",
              "      <td>FEMENINO</td>\n",
              "      <td>Madre</td>\n",
              "      <td>julio</td>\n",
              "    </tr>\n",
              "    <tr>\n",
              "      <th>999</th>\n",
              "      <td>60 y mas</td>\n",
              "      <td>Persona Mayor</td>\n",
              "      <td>Masculino</td>\n",
              "      <td>Negligencia y abandono</td>\n",
              "      <td>MASCULINO</td>\n",
              "      <td>Otros</td>\n",
              "      <td>julio</td>\n",
              "    </tr>\n",
              "  </tbody>\n",
              "</table>\n",
              "<p>1000 rows × 7 columns</p>\n",
              "</div>\n",
              "      <button class=\"colab-df-convert\" onclick=\"convertToInteractive('df-eaffe4a3-22e4-4868-8980-b9bf6b4a3b4f')\"\n",
              "              title=\"Convert this dataframe to an interactive table.\"\n",
              "              style=\"display:none;\">\n",
              "        \n",
              "  <svg xmlns=\"http://www.w3.org/2000/svg\" height=\"24px\"viewBox=\"0 0 24 24\"\n",
              "       width=\"24px\">\n",
              "    <path d=\"M0 0h24v24H0V0z\" fill=\"none\"/>\n",
              "    <path d=\"M18.56 5.44l.94 2.06.94-2.06 2.06-.94-2.06-.94-.94-2.06-.94 2.06-2.06.94zm-11 1L8.5 8.5l.94-2.06 2.06-.94-2.06-.94L8.5 2.5l-.94 2.06-2.06.94zm10 10l.94 2.06.94-2.06 2.06-.94-2.06-.94-.94-2.06-.94 2.06-2.06.94z\"/><path d=\"M17.41 7.96l-1.37-1.37c-.4-.4-.92-.59-1.43-.59-.52 0-1.04.2-1.43.59L10.3 9.45l-7.72 7.72c-.78.78-.78 2.05 0 2.83L4 21.41c.39.39.9.59 1.41.59.51 0 1.02-.2 1.41-.59l7.78-7.78 2.81-2.81c.8-.78.8-2.07 0-2.86zM5.41 20L4 18.59l7.72-7.72 1.47 1.35L5.41 20z\"/>\n",
              "  </svg>\n",
              "      </button>\n",
              "      \n",
              "  <style>\n",
              "    .colab-df-container {\n",
              "      display:flex;\n",
              "      flex-wrap:wrap;\n",
              "      gap: 12px;\n",
              "    }\n",
              "\n",
              "    .colab-df-convert {\n",
              "      background-color: #E8F0FE;\n",
              "      border: none;\n",
              "      border-radius: 50%;\n",
              "      cursor: pointer;\n",
              "      display: none;\n",
              "      fill: #1967D2;\n",
              "      height: 32px;\n",
              "      padding: 0 0 0 0;\n",
              "      width: 32px;\n",
              "    }\n",
              "\n",
              "    .colab-df-convert:hover {\n",
              "      background-color: #E2EBFA;\n",
              "      box-shadow: 0px 1px 2px rgba(60, 64, 67, 0.3), 0px 1px 3px 1px rgba(60, 64, 67, 0.15);\n",
              "      fill: #174EA6;\n",
              "    }\n",
              "\n",
              "    [theme=dark] .colab-df-convert {\n",
              "      background-color: #3B4455;\n",
              "      fill: #D2E3FC;\n",
              "    }\n",
              "\n",
              "    [theme=dark] .colab-df-convert:hover {\n",
              "      background-color: #434B5C;\n",
              "      box-shadow: 0px 1px 3px 1px rgba(0, 0, 0, 0.15);\n",
              "      filter: drop-shadow(0px 1px 2px rgba(0, 0, 0, 0.3));\n",
              "      fill: #FFFFFF;\n",
              "    }\n",
              "  </style>\n",
              "\n",
              "      <script>\n",
              "        const buttonEl =\n",
              "          document.querySelector('#df-eaffe4a3-22e4-4868-8980-b9bf6b4a3b4f button.colab-df-convert');\n",
              "        buttonEl.style.display =\n",
              "          google.colab.kernel.accessAllowed ? 'block' : 'none';\n",
              "\n",
              "        async function convertToInteractive(key) {\n",
              "          const element = document.querySelector('#df-eaffe4a3-22e4-4868-8980-b9bf6b4a3b4f');\n",
              "          const dataTable =\n",
              "            await google.colab.kernel.invokeFunction('convertToInteractive',\n",
              "                                                     [key], {});\n",
              "          if (!dataTable) return;\n",
              "\n",
              "          const docLinkHtml = 'Like what you see? Visit the ' +\n",
              "            '<a target=\"_blank\" href=https://colab.research.google.com/notebooks/data_table.ipynb>data table notebook</a>'\n",
              "            + ' to learn more about interactive tables.';\n",
              "          element.innerHTML = '';\n",
              "          dataTable['output_type'] = 'display_data';\n",
              "          await google.colab.output.renderOutput(dataTable, element);\n",
              "          const docLink = document.createElement('div');\n",
              "          docLink.innerHTML = docLinkHtml;\n",
              "          element.appendChild(docLink);\n",
              "        }\n",
              "      </script>\n",
              "    </div>\n",
              "  </div>\n",
              "  "
            ],
            "text/plain": [
              "    grupo_edad     ciclo_de_vida      sexo_  ...  sexo_agre parentezco_vict    mes\n",
              "0      18 a 28           Jovenes   Femenino  ...  MASCULINO          Esposo  enero\n",
              "1      18 a 28           Jovenes   Femenino  ...  MASCULINO           Otros  enero\n",
              "2     60 y mas     Persona Mayor   Femenino  ...   FEMENINO            Hijo  enero\n",
              "3      18 a 28           Jovenes   Femenino  ...   FEMENINO           Madre  enero\n",
              "4       6 a 11          Infancia   Femenino  ...  MASCULINO       Primo (a)  enero\n",
              "..         ...               ...        ...  ...        ...             ...    ...\n",
              "995    12 a 17      Adolescencia   Femenino  ...   FEMENINO           Otros  julio\n",
              "996      1 a 5  Primera infancia  Masculino  ...   FEMENINO           Madre  julio\n",
              "997    12 a 17      Adolescencia   Femenino  ...  MASCULINO           Madre  julio\n",
              "998     6 a 11          Infancia  Masculino  ...   FEMENINO           Madre  julio\n",
              "999   60 y mas     Persona Mayor  Masculino  ...  MASCULINO           Otros  julio\n",
              "\n",
              "[1000 rows x 7 columns]"
            ]
          },
          "metadata": {},
          "execution_count": 8
        }
      ]
    },
    {
      "cell_type": "code",
      "source": [
        "print(datos2.shape)"
      ],
      "metadata": {
        "colab": {
          "base_uri": "https://localhost:8080/"
        },
        "id": "BgnX5YVlE5n7",
        "outputId": "d412bedd-872e-48a0-8704-f0a0d25c3dcd"
      },
      "execution_count": 9,
      "outputs": [
        {
          "output_type": "stream",
          "name": "stdout",
          "text": [
            "(1000, 7)\n"
          ]
        }
      ]
    },
    {
      "cell_type": "code",
      "source": [
        "datos2.isna().sum()\n",
        "#Verificamos datos Null."
      ],
      "metadata": {
        "colab": {
          "base_uri": "https://localhost:8080/"
        },
        "id": "sBrcH4-zFUL2",
        "outputId": "a383db8a-625b-4287-8165-49ce333c5bd0"
      },
      "execution_count": 10,
      "outputs": [
        {
          "output_type": "execute_result",
          "data": {
            "text/plain": [
              "grupo_edad         0\n",
              "ciclo_de_vida      0\n",
              "sexo_              0\n",
              "def_naturaleza     0\n",
              "sexo_agre          0\n",
              "parentezco_vict    0\n",
              "mes                0\n",
              "dtype: int64"
            ]
          },
          "metadata": {},
          "execution_count": 10
        }
      ]
    },
    {
      "cell_type": "code",
      "source": [
        "datos2.info()\n",
        "#Verificamos la informacion sobre el tipo de datos."
      ],
      "metadata": {
        "colab": {
          "base_uri": "https://localhost:8080/"
        },
        "id": "NywcGkU3Fcud",
        "outputId": "d1d8b1a8-0a90-465d-bcfc-f70cc4df2803"
      },
      "execution_count": 11,
      "outputs": [
        {
          "output_type": "stream",
          "name": "stdout",
          "text": [
            "<class 'pandas.core.frame.DataFrame'>\n",
            "RangeIndex: 1000 entries, 0 to 999\n",
            "Data columns (total 7 columns):\n",
            " #   Column           Non-Null Count  Dtype \n",
            "---  ------           --------------  ----- \n",
            " 0   grupo_edad       1000 non-null   object\n",
            " 1   ciclo_de_vida    1000 non-null   object\n",
            " 2   sexo_            1000 non-null   object\n",
            " 3   def_naturaleza   1000 non-null   object\n",
            " 4   sexo_agre        1000 non-null   object\n",
            " 5   parentezco_vict  1000 non-null   object\n",
            " 6   mes              1000 non-null   object\n",
            "dtypes: object(7)\n",
            "memory usage: 54.8+ KB\n"
          ]
        }
      ]
    },
    {
      "cell_type": "code",
      "source": [
        "datos2.groupby(\"grupo_edad\").size()"
      ],
      "metadata": {
        "colab": {
          "base_uri": "https://localhost:8080/"
        },
        "id": "uzx7OVepGM9a",
        "outputId": "8cd57623-9864-4bf1-c8c0-581e58ecd514"
      },
      "execution_count": 12,
      "outputs": [
        {
          "output_type": "execute_result",
          "data": {
            "text/plain": [
              "grupo_edad\n",
              "1 a 5       246\n",
              "12 a 17      94\n",
              "18 a 28     126\n",
              "29 a 59     101\n",
              "6 a 11      290\n",
              "60 y mas     28\n",
              "<1          115\n",
              "dtype: int64"
            ]
          },
          "metadata": {},
          "execution_count": 12
        }
      ]
    },
    {
      "cell_type": "code",
      "source": [
        "datos2[\"grupo_edad\"].replace(('1 a 5', '12 a 17', '18 a 28', '29 a 59', '6 a 11', '60 y mas', '<1'), (7, 6, 5, 4, 3, 2, 1 ), inplace = True)\n",
        "#Cambiar tipo de datos a numericos"
      ],
      "metadata": {
        "id": "2kbv51hnKkOk"
      },
      "execution_count": 13,
      "outputs": []
    },
    {
      "cell_type": "code",
      "source": [
        "datos2.groupby(\"ciclo_de_vida\").size()"
      ],
      "metadata": {
        "colab": {
          "base_uri": "https://localhost:8080/"
        },
        "id": "I5o7KTBmGmJ9",
        "outputId": "e78aa6f0-eebc-4395-e686-1494f88362c9"
      },
      "execution_count": 14,
      "outputs": [
        {
          "output_type": "execute_result",
          "data": {
            "text/plain": [
              "ciclo_de_vida\n",
              "Adolescencia         94\n",
              "Adultez             101\n",
              "Infancia            290\n",
              "Jovenes             126\n",
              "Persona Mayor        28\n",
              "Primera infancia    361\n",
              "dtype: int64"
            ]
          },
          "metadata": {},
          "execution_count": 14
        }
      ]
    },
    {
      "cell_type": "code",
      "source": [
        "datos2[\"ciclo_de_vida\"].replace(('Adolescencia', 'Adultez', 'Infancia', 'Jovenes', 'Persona Mayor', 'Primera infancia'), (6, 5, 4, 3, 2, 1 ), inplace = True)"
      ],
      "metadata": {
        "id": "idEen4s6LQHE"
      },
      "execution_count": 15,
      "outputs": []
    },
    {
      "cell_type": "code",
      "source": [
        "datos2.groupby(\"sexo_\").size()"
      ],
      "metadata": {
        "colab": {
          "base_uri": "https://localhost:8080/"
        },
        "id": "tKXxklGRGq0s",
        "outputId": "f81891c2-42bc-48cd-cdd2-1fdd5ccc83d7"
      },
      "execution_count": 16,
      "outputs": [
        {
          "output_type": "execute_result",
          "data": {
            "text/plain": [
              "sexo_\n",
              "Femenino     608\n",
              "Masculino    392\n",
              "dtype: int64"
            ]
          },
          "metadata": {},
          "execution_count": 16
        }
      ]
    },
    {
      "cell_type": "code",
      "source": [
        "datos2[\"sexo_\"].replace(('Femenino', 'Masculino'), (2, 1 ), inplace = True)"
      ],
      "metadata": {
        "id": "Z-e22f3dLtKX"
      },
      "execution_count": 17,
      "outputs": []
    },
    {
      "cell_type": "code",
      "source": [
        "datos2.groupby(\"def_naturaleza\").size()"
      ],
      "metadata": {
        "colab": {
          "base_uri": "https://localhost:8080/"
        },
        "id": "E2n3vaxbHMz8",
        "outputId": "47caa92d-4c63-4509-bc14-b2dee6e2368b"
      },
      "execution_count": 18,
      "outputs": [
        {
          "output_type": "execute_result",
          "data": {
            "text/plain": [
              "def_naturaleza\n",
              "Abuso sexual                108\n",
              "Acoso sexual                  4\n",
              "Actos sexuales violencia      2\n",
              "Negligencia y abandono      630\n",
              "Violacion                     5\n",
              "Violencia fisica            232\n",
              "Violencia psicologica        19\n",
              "dtype: int64"
            ]
          },
          "metadata": {},
          "execution_count": 18
        }
      ]
    },
    {
      "cell_type": "code",
      "source": [
        "datos2[\"def_naturaleza\"].replace(('Abuso sexual', 'Acoso sexual', 'Actos sexuales violencia', 'Negligencia y abandono', 'Violacion', 'Violencia fisica', 'Violencia psicologica'), (7, 6, 5, 4, 3, 2, 1 ), inplace = True)"
      ],
      "metadata": {
        "id": "-S_xQqAFL3qU"
      },
      "execution_count": 19,
      "outputs": []
    },
    {
      "cell_type": "code",
      "source": [
        "datos2.groupby(\"sexo_agre\").size()"
      ],
      "metadata": {
        "colab": {
          "base_uri": "https://localhost:8080/"
        },
        "id": "jywNE0fvIJFT",
        "outputId": "e946b465-38f3-43b3-ca66-122bdfafe490"
      },
      "execution_count": 20,
      "outputs": [
        {
          "output_type": "execute_result",
          "data": {
            "text/plain": [
              "sexo_agre\n",
              "FEMENINO       583\n",
              "MASCULINO      401\n",
              "SIN DEFINIR     16\n",
              "dtype: int64"
            ]
          },
          "metadata": {},
          "execution_count": 20
        }
      ]
    },
    {
      "cell_type": "code",
      "source": [
        "datos2[\"sexo_agre\"].replace(('FEMENINO', 'MASCULINO', 'SIN DEFINIR' ), (3, 2, 1 ), inplace = True)"
      ],
      "metadata": {
        "id": "rAb8-KPLMuAJ"
      },
      "execution_count": 21,
      "outputs": []
    },
    {
      "cell_type": "code",
      "source": [
        "datos2.groupby(\"parentezco_vict\").size()"
      ],
      "metadata": {
        "colab": {
          "base_uri": "https://localhost:8080/"
        },
        "id": "0OmysJMYISWU",
        "outputId": "a6ff4b5d-2c82-4054-b66b-ccf6dbbe11b2"
      },
      "execution_count": 22,
      "outputs": [
        {
          "output_type": "execute_result",
          "data": {
            "text/plain": [
              "parentezco_vict\n",
              "Abuelo (a)                             18\n",
              "Compañero permanente                   22\n",
              "Cuñado (a)                              5\n",
              "Encargado (a) del NNA/Adulto mayor      3\n",
              "Esposo                                 54\n",
              "Ex - amante                             1\n",
              "Ex - novio                              4\n",
              "Ex esposo(a)                           13\n",
              "Ex pareja                               1\n",
              "Excompañero permanente                 12\n",
              "Hermano (a)                            16\n",
              "Hijo                                   13\n",
              "Madrasta                                1\n",
              "Madre                                 547\n",
              "Novio(a)                               27\n",
              "Otros                                 157\n",
              "Padrasto                                8\n",
              "Padre                                  69\n",
              "Pareja                                  2\n",
              "Primo (a)                               9\n",
              "Suegro (a)                              2\n",
              "Tío (a)                                16\n",
              "dtype: int64"
            ]
          },
          "metadata": {},
          "execution_count": 22
        }
      ]
    },
    {
      "cell_type": "code",
      "source": [
        "datos2[\"parentezco_vict\"].replace(('Abuelo (a)', 'Compañero permanente', 'Cuñado (a)', 'Encargado (a) del NNA/Adulto mayor', 'Esposo', 'Ex - amante', 'Ex - novio', 'Ex esposo(a)', 'Ex pareja', 'Excompañero permanente', 'Hermano (a)', 'Hijo', 'Madrasta', 'Madre', 'Novio(a)', 'Otros', 'Padrasto', 'Padre', 'Pareja', 'Primo (a)', 'Suegro (a)', 'Tío (a)'), (22, 21, 20, 19, 18, 17, 16, 15, 14, 13, 12, 11, 10, 9, 8, 7, 6, 5, 4, 3, 2, 1 ), inplace = True)"
      ],
      "metadata": {
        "id": "tkjEVxNFNqvn"
      },
      "execution_count": 23,
      "outputs": []
    },
    {
      "cell_type": "code",
      "source": [
        "datos2.groupby(\"mes\").size()"
      ],
      "metadata": {
        "colab": {
          "base_uri": "https://localhost:8080/"
        },
        "id": "p5G3XDFxIe7X",
        "outputId": "3fe4de28-8c91-4424-d7ae-1ca707653c9d"
      },
      "execution_count": 24,
      "outputs": [
        {
          "output_type": "execute_result",
          "data": {
            "text/plain": [
              "mes\n",
              "abril      154\n",
              "enero      125\n",
              "febrero    137\n",
              "julio      112\n",
              "junio      138\n",
              "marzo      182\n",
              "mayo       152\n",
              "dtype: int64"
            ]
          },
          "metadata": {},
          "execution_count": 24
        }
      ]
    },
    {
      "cell_type": "code",
      "source": [
        "datos2[\"mes\"].replace(('abril', 'enero', 'febrero', 'julio', 'junio', 'marzo', 'mayo'), (7, 6, 5, 4, 3, 2, 1 ), inplace = True)"
      ],
      "metadata": {
        "id": "_Ey_F20DPGFa"
      },
      "execution_count": 25,
      "outputs": []
    },
    {
      "cell_type": "code",
      "source": [
        "type(datos2)"
      ],
      "metadata": {
        "colab": {
          "base_uri": "https://localhost:8080/"
        },
        "id": "6vwLtKTZP3Iw",
        "outputId": "6ffa26f0-df98-4b0d-9d71-0c7e9a332b99"
      },
      "execution_count": 26,
      "outputs": [
        {
          "output_type": "execute_result",
          "data": {
            "text/plain": [
              "pandas.core.frame.DataFrame"
            ]
          },
          "metadata": {},
          "execution_count": 26
        }
      ]
    },
    {
      "cell_type": "markdown",
      "source": [
        "Se divide el set de datos en un set de entrenamiento y otro de pruebas.\n",
        "\n",
        "Usaremos el set de pruebas en la evaluacion final de nuestro modelo."
      ],
      "metadata": {
        "id": "H7KLIJLCejvd"
      }
    },
    {
      "cell_type": "code",
      "source": [
        "train_dataset = datos2.sample(frac=0.8,random_state=0)\n",
        "test_dataset = datos2.drop(train_dataset.index)"
      ],
      "metadata": {
        "id": "vC7c3tMAeaSF"
      },
      "execution_count": 27,
      "outputs": []
    },
    {
      "cell_type": "code",
      "source": [
        "sns.pairplot(train_dataset[[\"grupo_edad\", \"ciclo_de_vida\", \"sexo_\", \"def_naturaleza\", \"sexo_agre\", \"parentezco_vict\", \"mes\" ]], diag_kind=\"kde\")\n",
        "\n",
        "#Revisamos la distribucion conjunta de un par de columnas de el set de entrenamiento."
      ],
      "metadata": {
        "colab": {
          "base_uri": "https://localhost:8080/",
          "height": 1000
        },
        "id": "ne8q9baMerbX",
        "outputId": "474833f2-2b35-4b27-b7c6-0552f61b4343"
      },
      "execution_count": 28,
      "outputs": [
        {
          "output_type": "execute_result",
          "data": {
            "text/plain": [
              "<seaborn.axisgrid.PairGrid at 0x7fb970e4dc10>"
            ]
          },
          "metadata": {},
          "execution_count": 28
        },
        {
          "output_type": "display_data",
          "data": {
            "image/png": "[encoded data removed]",
            "text/plain": [
              "<Figure size 1260x1260 with 56 Axes>"
            ]
          },
          "metadata": {
            "needs_background": "light"
          }
        }
      ]
    },
    {
      "cell_type": "code",
      "source": [
        "datos2.hist(figsize=(10,10))\n",
        "pyplot.show()\n",
        "#Revisamos distribucion de las variables"
      ],
      "metadata": {
        "colab": {
          "base_uri": "https://localhost:8080/",
          "height": 607
        },
        "id": "Kk2aIMZnTczJ",
        "outputId": "3ae35e48-5ade-4bd8-b46c-242f09f1694a"
      },
      "execution_count": 29,
      "outputs": [
        {
          "output_type": "display_data",
          "data": {
            "image/png": "[encoded data removed]",
            "text/plain": [
              "<Figure size 720x720 with 9 Axes>"
            ]
          },
          "metadata": {
            "needs_background": "light"
          }
        }
      ]
    },
    {
      "cell_type": "code",
      "source": [
        "train_stats = train_dataset.describe()\n",
        "train_stats.pop(\"sexo_\")\n",
        "train_stats = train_stats.transpose()\n",
        "train_stats\n",
        "\n",
        "#Revisamos las estadisticas generales"
      ],
      "metadata": {
        "colab": {
          "base_uri": "https://localhost:8080/",
          "height": 237
        },
        "id": "roqaN5pfgAyS",
        "outputId": "1e0040d4-9c42-4b54-fd20-5fd181dad2a8"
      },
      "execution_count": 30,
      "outputs": [
        {
          "output_type": "execute_result",
          "data": {
            "text/html": [
              "\n",
              "  <div id=\"df-e962b12a-8af4-4e54-9ece-6fa6bfc952d5\">\n",
              "    <div class=\"colab-df-container\">\n",
              "      <div>\n",
              "<style scoped>\n",
              "    .dataframe tbody tr th:only-of-type {\n",
              "        vertical-align: middle;\n",
              "    }\n",
              "\n",
              "    .dataframe tbody tr th {\n",
              "        vertical-align: top;\n",
              "    }\n",
              "\n",
              "    .dataframe thead th {\n",
              "        text-align: right;\n",
              "    }\n",
              "</style>\n",
              "<table border=\"1\" class=\"dataframe\">\n",
              "  <thead>\n",
              "    <tr style=\"text-align: right;\">\n",
              "      <th></th>\n",
              "      <th>count</th>\n",
              "      <th>mean</th>\n",
              "      <th>std</th>\n",
              "      <th>min</th>\n",
              "      <th>25%</th>\n",
              "      <th>50%</th>\n",
              "      <th>75%</th>\n",
              "      <th>max</th>\n",
              "    </tr>\n",
              "  </thead>\n",
              "  <tbody>\n",
              "    <tr>\n",
              "      <th>grupo_edad</th>\n",
              "      <td>800.0</td>\n",
              "      <td>4.42750</td>\n",
              "      <td>2.022958</td>\n",
              "      <td>1.0</td>\n",
              "      <td>3.0</td>\n",
              "      <td>4.0</td>\n",
              "      <td>7.0</td>\n",
              "      <td>7.0</td>\n",
              "    </tr>\n",
              "    <tr>\n",
              "      <th>ciclo_de_vida</th>\n",
              "      <td>800.0</td>\n",
              "      <td>2.98625</td>\n",
              "      <td>1.748537</td>\n",
              "      <td>1.0</td>\n",
              "      <td>1.0</td>\n",
              "      <td>3.0</td>\n",
              "      <td>4.0</td>\n",
              "      <td>6.0</td>\n",
              "    </tr>\n",
              "    <tr>\n",
              "      <th>def_naturaleza</th>\n",
              "      <td>800.0</td>\n",
              "      <td>3.80625</td>\n",
              "      <td>1.433101</td>\n",
              "      <td>1.0</td>\n",
              "      <td>2.0</td>\n",
              "      <td>4.0</td>\n",
              "      <td>4.0</td>\n",
              "      <td>7.0</td>\n",
              "    </tr>\n",
              "    <tr>\n",
              "      <th>sexo_agre</th>\n",
              "      <td>800.0</td>\n",
              "      <td>2.57625</td>\n",
              "      <td>0.528711</td>\n",
              "      <td>1.0</td>\n",
              "      <td>2.0</td>\n",
              "      <td>3.0</td>\n",
              "      <td>3.0</td>\n",
              "      <td>3.0</td>\n",
              "    </tr>\n",
              "    <tr>\n",
              "      <th>parentezco_vict</th>\n",
              "      <td>800.0</td>\n",
              "      <td>9.46625</td>\n",
              "      <td>3.958023</td>\n",
              "      <td>1.0</td>\n",
              "      <td>7.0</td>\n",
              "      <td>9.0</td>\n",
              "      <td>9.0</td>\n",
              "      <td>22.0</td>\n",
              "    </tr>\n",
              "    <tr>\n",
              "      <th>mes</th>\n",
              "      <td>800.0</td>\n",
              "      <td>3.89875</td>\n",
              "      <td>2.065510</td>\n",
              "      <td>1.0</td>\n",
              "      <td>2.0</td>\n",
              "      <td>4.0</td>\n",
              "      <td>6.0</td>\n",
              "      <td>7.0</td>\n",
              "    </tr>\n",
              "  </tbody>\n",
              "</table>\n",
              "</div>\n",
              "      <button class=\"colab-df-convert\" onclick=\"convertToInteractive('df-e962b12a-8af4-4e54-9ece-6fa6bfc952d5')\"\n",
              "              title=\"Convert this dataframe to an interactive table.\"\n",
              "              style=\"display:none;\">\n",
              "        \n",
              "  <svg xmlns=\"http://www.w3.org/2000/svg\" height=\"24px\"viewBox=\"0 0 24 24\"\n",
              "       width=\"24px\">\n",
              "    <path d=\"M0 0h24v24H0V0z\" fill=\"none\"/>\n",
              "    <path d=\"M18.56 5.44l.94 2.06.94-2.06 2.06-.94-2.06-.94-.94-2.06-.94 2.06-2.06.94zm-11 1L8.5 8.5l.94-2.06 2.06-.94-2.06-.94L8.5 2.5l-.94 2.06-2.06.94zm10 10l.94 2.06.94-2.06 2.06-.94-2.06-.94-.94-2.06-.94 2.06-2.06.94z\"/><path d=\"M17.41 7.96l-1.37-1.37c-.4-.4-.92-.59-1.43-.59-.52 0-1.04.2-1.43.59L10.3 9.45l-7.72 7.72c-.78.78-.78 2.05 0 2.83L4 21.41c.39.39.9.59 1.41.59.51 0 1.02-.2 1.41-.59l7.78-7.78 2.81-2.81c.8-.78.8-2.07 0-2.86zM5.41 20L4 18.59l7.72-7.72 1.47 1.35L5.41 20z\"/>\n",
              "  </svg>\n",
              "      </button>\n",
              "      \n",
              "  <style>\n",
              "    .colab-df-container {\n",
              "      display:flex;\n",
              "      flex-wrap:wrap;\n",
              "      gap: 12px;\n",
              "    }\n",
              "\n",
              "    .colab-df-convert {\n",
              "      background-color: #E8F0FE;\n",
              "      border: none;\n",
              "      border-radius: 50%;\n",
              "      cursor: pointer;\n",
              "      display: none;\n",
              "      fill: #1967D2;\n",
              "      height: 32px;\n",
              "      padding: 0 0 0 0;\n",
              "      width: 32px;\n",
              "    }\n",
              "\n",
              "    .colab-df-convert:hover {\n",
              "      background-color: #E2EBFA;\n",
              "      box-shadow: 0px 1px 2px rgba(60, 64, 67, 0.3), 0px 1px 3px 1px rgba(60, 64, 67, 0.15);\n",
              "      fill: #174EA6;\n",
              "    }\n",
              "\n",
              "    [theme=dark] .colab-df-convert {\n",
              "      background-color: #3B4455;\n",
              "      fill: #D2E3FC;\n",
              "    }\n",
              "\n",
              "    [theme=dark] .colab-df-convert:hover {\n",
              "      background-color: #434B5C;\n",
              "      box-shadow: 0px 1px 3px 1px rgba(0, 0, 0, 0.15);\n",
              "      filter: drop-shadow(0px 1px 2px rgba(0, 0, 0, 0.3));\n",
              "      fill: #FFFFFF;\n",
              "    }\n",
              "  </style>\n",
              "\n",
              "      <script>\n",
              "        const buttonEl =\n",
              "          document.querySelector('#df-e962b12a-8af4-4e54-9ece-6fa6bfc952d5 button.colab-df-convert');\n",
              "        buttonEl.style.display =\n",
              "          google.colab.kernel.accessAllowed ? 'block' : 'none';\n",
              "\n",
              "        async function convertToInteractive(key) {\n",
              "          const element = document.querySelector('#df-e962b12a-8af4-4e54-9ece-6fa6bfc952d5');\n",
              "          const dataTable =\n",
              "            await google.colab.kernel.invokeFunction('convertToInteractive',\n",
              "                                                     [key], {});\n",
              "          if (!dataTable) return;\n",
              "\n",
              "          const docLinkHtml = 'Like what you see? Visit the ' +\n",
              "            '<a target=\"_blank\" href=https://colab.research.google.com/notebooks/data_table.ipynb>data table notebook</a>'\n",
              "            + ' to learn more about interactive tables.';\n",
              "          element.innerHTML = '';\n",
              "          dataTable['output_type'] = 'display_data';\n",
              "          await google.colab.output.renderOutput(dataTable, element);\n",
              "          const docLink = document.createElement('div');\n",
              "          docLink.innerHTML = docLinkHtml;\n",
              "          element.appendChild(docLink);\n",
              "        }\n",
              "      </script>\n",
              "    </div>\n",
              "  </div>\n",
              "  "
            ],
            "text/plain": [
              "                 count     mean       std  min  25%  50%  75%   max\n",
              "grupo_edad       800.0  4.42750  2.022958  1.0  3.0  4.0  7.0   7.0\n",
              "ciclo_de_vida    800.0  2.98625  1.748537  1.0  1.0  3.0  4.0   6.0\n",
              "def_naturaleza   800.0  3.80625  1.433101  1.0  2.0  4.0  4.0   7.0\n",
              "sexo_agre        800.0  2.57625  0.528711  1.0  2.0  3.0  3.0   3.0\n",
              "parentezco_vict  800.0  9.46625  3.958023  1.0  7.0  9.0  9.0  22.0\n",
              "mes              800.0  3.89875  2.065510  1.0  2.0  4.0  6.0   7.0"
            ]
          },
          "metadata": {},
          "execution_count": 30
        }
      ]
    },
    {
      "cell_type": "code",
      "source": [
        "fig, ax = plt.subplots(figsize=(15,15)) \n",
        "sns.heatmap(datos2.corr(), annot = True, linewidths=1, ax=ax)\n",
        "\n",
        "#Correlacion de las variables mediante heatmap"
      ],
      "metadata": {
        "colab": {
          "base_uri": "https://localhost:8080/",
          "height": 885
        },
        "id": "yoF3k-FrTjin",
        "outputId": "bf67eb15-ed4b-4db5-d935-75bf37ee5fae"
      },
      "execution_count": 31,
      "outputs": [
        {
          "output_type": "execute_result",
          "data": {
            "text/plain": [
              "<matplotlib.axes._subplots.AxesSubplot at 0x7fb9631e9150>"
            ]
          },
          "metadata": {},
          "execution_count": 31
        },
        {
          "output_type": "display_data",
          "data": {
            "image/png": "[encoded data removed]",
            "text/plain": [
              "<Figure size 1080x1080 with 2 Axes>"
            ]
          },
          "metadata": {
            "needs_background": "light"
          }
        }
      ]
    },
    {
      "cell_type": "markdown",
      "source": [
        ""
      ],
      "metadata": {
        "id": "sSehHnJZVtgM"
      }
    },
    {
      "cell_type": "code",
      "source": [
        "train_labels = train_dataset.pop(\"sexo_\")\n",
        "test_labels = test_dataset.pop(\"sexo_\")\n",
        "\n",
        "#Separe el valor objetivo, o la \"etiqueta\" de las caracteristicas. Esta etiqueta es el valor que entrenara el modelo para predecir."
      ],
      "metadata": {
        "id": "UoOar577V93O"
      },
      "execution_count": 32,
      "outputs": []
    },
    {
      "cell_type": "code",
      "source": [
        "def norm(x):\n",
        "  return (x - train_stats['mean']) / train_stats['std'] / train_stats['count'] / train_stats['min'] / train_stats['25%'] / train_stats['50%'] / train_stats['75%']\n",
        "  / train_stats['max']\n",
        "normed_train_data = norm(train_dataset)\n",
        "normed_test_data = norm(test_dataset)\n",
        "\n",
        "#Normalizamos los datos"
      ],
      "metadata": {
        "id": "Fca1mVuwYHvZ"
      },
      "execution_count": 33,
      "outputs": []
    },
    {
      "cell_type": "markdown",
      "source": [
        "##Construimos nuestro modelo\n",
        "\n",
        "Construyamos nuestro modelo. Aquí, utilizaremos un modelo secuencial con dos capas ocultas densamente conectadas y una capa de salida que devuelve un único valor continuo. Los pasos de construcción del modelo se envuelven en una función, build_model, ya que crearemos un segundo modelo, más adelante."
      ],
      "metadata": {
        "id": "IV2UqtFojd1N"
      }
    },
    {
      "cell_type": "code",
      "source": [
        "def build_model():\n",
        "  model = keras.Sequential([\n",
        "    layers.Dense(64, activation='relu', input_shape=[len(train_dataset.keys())]),\n",
        "    \n",
        "    layers.Dense(1)\n",
        "  ])\n",
        "\n",
        "  optimizer = tf.keras.optimizers.RMSprop(0.001)\n",
        "\n",
        "  model.compile(loss='mse',\n",
        "                optimizer=optimizer,\n",
        "                metrics=['mae', 'mse'])\n",
        "  return model"
      ],
      "metadata": {
        "id": "lTi3opq9jkii"
      },
      "execution_count": 34,
      "outputs": []
    },
    {
      "cell_type": "code",
      "source": [
        "model = build_model()"
      ],
      "metadata": {
        "id": "eAkGJKsXjtpt"
      },
      "execution_count": 35,
      "outputs": []
    },
    {
      "cell_type": "markdown",
      "source": [
        "##Inspeccionamos el modelo\n",
        "\n",
        "Descripción simple del modelo"
      ],
      "metadata": {
        "id": "B6bJKZamjvc9"
      }
    },
    {
      "cell_type": "code",
      "source": [
        "model.summary()"
      ],
      "metadata": {
        "colab": {
          "base_uri": "https://localhost:8080/"
        },
        "id": "NL7OsNLDj28D",
        "outputId": "83130ab2-bfc7-4132-ed37-f2734aa91a99"
      },
      "execution_count": 36,
      "outputs": [
        {
          "output_type": "stream",
          "name": "stdout",
          "text": [
            "Model: \"sequential\"\n",
            "_________________________________________________________________\n",
            " Layer (type)                Output Shape              Param #   \n",
            "=================================================================\n",
            " dense (Dense)               (None, 64)                448       \n",
            "                                                                 \n",
            " dense_1 (Dense)             (None, 1)                 65        \n",
            "                                                                 \n",
            "=================================================================\n",
            "Total params: 513\n",
            "Trainable params: 513\n",
            "Non-trainable params: 0\n",
            "_________________________________________________________________\n"
          ]
        }
      ]
    },
    {
      "cell_type": "markdown",
      "source": [
        "Ahora probamos el modelo. Tomando un lote de ejemplos 10 de los datos de entrenamiento y llamando un **model.predict** en él."
      ],
      "metadata": {
        "id": "5JB_Dl1BkGpi"
      }
    },
    {
      "cell_type": "code",
      "source": [
        "example_batch = normed_train_data[:10]\n",
        "example_result = model.predict(example_batch)\n",
        "example_result"
      ],
      "metadata": {
        "colab": {
          "base_uri": "https://localhost:8080/"
        },
        "id": "A9JEHcvVkVVl",
        "outputId": "4be4414c-b4c7-42ee-c977-8088ab7f3419"
      },
      "execution_count": 37,
      "outputs": [
        {
          "output_type": "execute_result",
          "data": {
            "text/plain": [
              "array([[-1.5755217e-05],\n",
              "       [ 2.0600788e-05],\n",
              "       [ 2.3888151e-05],\n",
              "       [ 2.5245372e-05],\n",
              "       [-2.3855213e-05],\n",
              "       [ 1.9501085e-05],\n",
              "       [-1.4298037e-05],\n",
              "       [-6.9010821e-06],\n",
              "       [ 1.0547500e-05],\n",
              "       [-1.1712109e-05]], dtype=float32)"
            ]
          },
          "metadata": {},
          "execution_count": 37
        }
      ]
    },
    {
      "cell_type": "markdown",
      "source": [
        "**Procedemos a entrenar el modelo**"
      ],
      "metadata": {
        "id": "1B3p6HZ7lMEV"
      }
    },
    {
      "cell_type": "code",
      "source": [
        "class PrintDot(keras.callbacks.Callback):\n",
        "  def on_epoch_end(self, epoch, logs):\n",
        "    if epoch % 100 == 0: print('')\n",
        "    print('Ncm', end='')\n",
        "\n",
        "EPOCHS = 1000\n",
        "\n",
        "history = model.fit(\n",
        "  normed_train_data, train_labels,\n",
        "  epochs=EPOCHS, validation_split = 0.2, verbose=0,\n",
        "  callbacks=[PrintDot()])"
      ],
      "metadata": {
        "colab": {
          "base_uri": "https://localhost:8080/"
        },
        "id": "qBWoH6UslPzT",
        "outputId": "75d1f45b-207e-4b6d-ee51-009e4dec25c9"
      },
      "execution_count": 38,
      "outputs": [
        {
          "output_type": "stream",
          "name": "stdout",
          "text": [
            "\n",
            "NcmNcmNcmNcmNcmNcmNcmNcmNcmNcmNcmNcmNcmNcmNcmNcmNcmNcmNcmNcmNcmNcmNcmNcmNcmNcmNcmNcmNcmNcmNcmNcmNcmNcmNcmNcmNcmNcmNcmNcmNcmNcmNcmNcmNcmNcmNcmNcmNcmNcmNcmNcmNcmNcmNcmNcmNcmNcmNcmNcmNcmNcmNcmNcmNcmNcmNcmNcmNcmNcmNcmNcmNcmNcmNcmNcmNcmNcmNcmNcmNcmNcmNcmNcmNcmNcmNcmNcmNcmNcmNcmNcmNcmNcmNcmNcmNcmNcmNcmNcm\n",
            "NcmNcmNcmNcmNcmNcmNcmNcmNcmNcmNcmNcmNcmNcmNcmNcmNcmNcmNcmNcmNcmNcmNcmNcmNcmNcmNcmNcmNcmNcmNcmNcmNcmNcmNcmNcmNcmNcmNcmNcmNcmNcmNcmNcmNcmNcmNcmNcmNcmNcmNcmNcmNcmNcmNcmNcmNcmNcmNcmNcmNcmNcmNcmNcmNcmNcmNcmNcmNcmNcmNcmNcmNcmNcmNcmNcmNcmNcmNcmNcmNcmNcmNcmNcmNcmNcmNcmNcmNcmNcmNcmNcmNcmNcmNcmNcmNcmNcmNcmNcm\n",
            "NcmNcmNcmNcmNcmNcmNcmNcmNcmNcmNcmNcmNcmNcmNcmNcmNcmNcmNcmNcmNcmNcmNcmNcmNcmNcmNcmNcmNcmNcmNcmNcmNcmNcmNcmNcmNcmNcmNcmNcmNcmNcmNcmNcmNcmNcmNcmNcmNcmNcmNcmNcmNcmNcmNcmNcmNcmNcmNcmNcmNcmNcmNcmNcmNcmNcmNcmNcmNcmNcmNcmNcmNcmNcmNcmNcmNcmNcmNcmNcmNcmNcmNcmNcmNcmNcmNcmNcmNcmNcmNcmNcmNcmNcmNcmNcmNcmNcmNcmNcm\n",
            "NcmNcmNcmNcmNcmNcmNcmNcmNcmNcmNcmNcmNcmNcmNcmNcmNcmNcmNcmNcmNcmNcmNcmNcmNcmNcmNcmNcmNcmNcmNcmNcmNcmNcmNcmNcmNcmNcmNcmNcmNcmNcmNcmNcmNcmNcmNcmNcmNcmNcmNcmNcmNcmNcmNcmNcmNcmNcmNcmNcmNcmNcmNcmNcmNcmNcmNcmNcmNcmNcmNcmNcmNcmNcmNcmNcmNcmNcmNcmNcmNcmNcmNcmNcmNcmNcmNcmNcmNcmNcmNcmNcmNcmNcmNcmNcmNcmNcmNcmNcm\n",
            "NcmNcmNcmNcmNcmNcmNcmNcmNcmNcmNcmNcmNcmNcmNcmNcmNcmNcmNcmNcmNcmNcmNcmNcmNcmNcmNcmNcmNcmNcmNcmNcmNcmNcmNcmNcmNcmNcmNcmNcmNcmNcmNcmNcmNcmNcmNcmNcmNcmNcmNcmNcmNcmNcmNcmNcmNcmNcmNcmNcmNcmNcmNcmNcmNcmNcmNcmNcmNcmNcmNcmNcmNcmNcmNcmNcmNcmNcmNcmNcmNcmNcmNcmNcmNcmNcmNcmNcmNcmNcmNcmNcmNcmNcmNcmNcmNcmNcmNcmNcm\n",
            "NcmNcmNcmNcmNcmNcmNcmNcmNcmNcmNcmNcmNcmNcmNcmNcmNcmNcmNcmNcmNcmNcmNcmNcmNcmNcmNcmNcmNcmNcmNcmNcmNcmNcmNcmNcmNcmNcmNcmNcmNcmNcmNcmNcmNcmNcmNcmNcmNcmNcmNcmNcmNcmNcmNcmNcmNcmNcmNcmNcmNcmNcmNcmNcmNcmNcmNcmNcmNcmNcmNcmNcmNcmNcmNcmNcmNcmNcmNcmNcmNcmNcmNcmNcmNcmNcmNcmNcmNcmNcmNcmNcmNcmNcmNcmNcmNcmNcmNcmNcm\n",
            "NcmNcmNcmNcmNcmNcmNcmNcmNcmNcmNcmNcmNcmNcmNcmNcmNcmNcmNcmNcmNcmNcmNcmNcmNcmNcmNcmNcmNcmNcmNcmNcmNcmNcmNcmNcmNcmNcmNcmNcmNcmNcmNcmNcmNcmNcmNcmNcmNcmNcmNcmNcmNcmNcmNcmNcmNcmNcmNcmNcmNcmNcmNcmNcmNcmNcmNcmNcmNcmNcmNcmNcmNcmNcmNcmNcmNcmNcmNcmNcmNcmNcmNcmNcmNcmNcmNcmNcmNcmNcmNcmNcmNcmNcmNcmNcmNcmNcmNcmNcm\n",
            "NcmNcmNcmNcmNcmNcmNcmNcmNcmNcmNcmNcmNcmNcmNcmNcmNcmNcmNcmNcmNcmNcmNcmNcmNcmNcmNcmNcmNcmNcmNcmNcmNcmNcmNcmNcmNcmNcmNcmNcmNcmNcmNcmNcmNcmNcmNcmNcmNcmNcmNcmNcmNcmNcmNcmNcmNcmNcmNcmNcmNcmNcmNcmNcmNcmNcmNcmNcmNcmNcmNcmNcmNcmNcmNcmNcmNcmNcmNcmNcmNcmNcmNcmNcmNcmNcmNcmNcmNcmNcmNcmNcmNcmNcmNcmNcmNcmNcmNcmNcm\n",
            "NcmNcmNcmNcmNcmNcmNcmNcmNcmNcmNcmNcmNcmNcmNcmNcmNcmNcmNcmNcmNcmNcmNcmNcmNcmNcmNcmNcmNcmNcmNcmNcmNcmNcmNcmNcmNcmNcmNcmNcmNcmNcmNcmNcmNcmNcmNcmNcmNcmNcmNcmNcmNcmNcmNcmNcmNcmNcmNcmNcmNcmNcmNcmNcmNcmNcmNcmNcmNcmNcmNcmNcmNcmNcmNcmNcmNcmNcmNcmNcmNcmNcmNcmNcmNcmNcmNcmNcmNcmNcmNcmNcmNcmNcmNcmNcmNcmNcmNcmNcm\n",
            "NcmNcmNcmNcmNcmNcmNcmNcmNcmNcmNcmNcmNcmNcmNcmNcmNcmNcmNcmNcmNcmNcmNcmNcmNcmNcmNcmNcmNcmNcmNcmNcmNcmNcmNcmNcmNcmNcmNcmNcmNcmNcmNcmNcmNcmNcmNcmNcmNcmNcmNcmNcmNcmNcmNcmNcmNcmNcmNcmNcmNcmNcmNcmNcmNcmNcmNcmNcmNcmNcmNcmNcmNcmNcmNcmNcmNcmNcmNcmNcmNcmNcmNcmNcmNcmNcmNcmNcmNcmNcmNcmNcmNcmNcmNcmNcmNcmNcmNcmNcm"
          ]
        }
      ]
    },
    {
      "cell_type": "markdown",
      "source": [
        "Visualizamos el progreso de entrenamiento del modelo usando las estadísticas almacenadas en el objeto history."
      ],
      "metadata": {
        "id": "D5k0nLLFnJA4"
      }
    },
    {
      "cell_type": "code",
      "source": [
        "hist = pd.DataFrame(history.history)\n",
        "hist['epoch'] = history.epoch\n",
        "hist.tail()"
      ],
      "metadata": {
        "colab": {
          "base_uri": "https://localhost:8080/",
          "height": 206
        },
        "id": "uv-KdOw2nLTt",
        "outputId": "ec2bfb5c-40bb-4f8f-f721-59b98a367110"
      },
      "execution_count": 39,
      "outputs": [
        {
          "output_type": "execute_result",
          "data": {
            "text/html": [
              "\n",
              "  <div id=\"df-e78b0a3e-ac2b-46b4-9d3e-e295e60248c2\">\n",
              "    <div class=\"colab-df-container\">\n",
              "      <div>\n",
              "<style scoped>\n",
              "    .dataframe tbody tr th:only-of-type {\n",
              "        vertical-align: middle;\n",
              "    }\n",
              "\n",
              "    .dataframe tbody tr th {\n",
              "        vertical-align: top;\n",
              "    }\n",
              "\n",
              "    .dataframe thead th {\n",
              "        text-align: right;\n",
              "    }\n",
              "</style>\n",
              "<table border=\"1\" class=\"dataframe\">\n",
              "  <thead>\n",
              "    <tr style=\"text-align: right;\">\n",
              "      <th></th>\n",
              "      <th>loss</th>\n",
              "      <th>mae</th>\n",
              "      <th>mse</th>\n",
              "      <th>val_loss</th>\n",
              "      <th>val_mae</th>\n",
              "      <th>val_mse</th>\n",
              "      <th>epoch</th>\n",
              "    </tr>\n",
              "  </thead>\n",
              "  <tbody>\n",
              "    <tr>\n",
              "      <th>995</th>\n",
              "      <td>0.237715</td>\n",
              "      <td>0.477422</td>\n",
              "      <td>0.237715</td>\n",
              "      <td>0.226920</td>\n",
              "      <td>0.466008</td>\n",
              "      <td>0.226920</td>\n",
              "      <td>995</td>\n",
              "    </tr>\n",
              "    <tr>\n",
              "      <th>996</th>\n",
              "      <td>0.236661</td>\n",
              "      <td>0.475276</td>\n",
              "      <td>0.236661</td>\n",
              "      <td>0.231207</td>\n",
              "      <td>0.476651</td>\n",
              "      <td>0.231207</td>\n",
              "      <td>996</td>\n",
              "    </tr>\n",
              "    <tr>\n",
              "      <th>997</th>\n",
              "      <td>0.238305</td>\n",
              "      <td>0.478137</td>\n",
              "      <td>0.238305</td>\n",
              "      <td>0.229457</td>\n",
              "      <td>0.473136</td>\n",
              "      <td>0.229457</td>\n",
              "      <td>997</td>\n",
              "    </tr>\n",
              "    <tr>\n",
              "      <th>998</th>\n",
              "      <td>0.237381</td>\n",
              "      <td>0.478528</td>\n",
              "      <td>0.237381</td>\n",
              "      <td>0.227633</td>\n",
              "      <td>0.468464</td>\n",
              "      <td>0.227633</td>\n",
              "      <td>998</td>\n",
              "    </tr>\n",
              "    <tr>\n",
              "      <th>999</th>\n",
              "      <td>0.237408</td>\n",
              "      <td>0.477898</td>\n",
              "      <td>0.237408</td>\n",
              "      <td>0.227408</td>\n",
              "      <td>0.467773</td>\n",
              "      <td>0.227408</td>\n",
              "      <td>999</td>\n",
              "    </tr>\n",
              "  </tbody>\n",
              "</table>\n",
              "</div>\n",
              "      <button class=\"colab-df-convert\" onclick=\"convertToInteractive('df-e78b0a3e-ac2b-46b4-9d3e-e295e60248c2')\"\n",
              "              title=\"Convert this dataframe to an interactive table.\"\n",
              "              style=\"display:none;\">\n",
              "        \n",
              "  <svg xmlns=\"http://www.w3.org/2000/svg\" height=\"24px\"viewBox=\"0 0 24 24\"\n",
              "       width=\"24px\">\n",
              "    <path d=\"M0 0h24v24H0V0z\" fill=\"none\"/>\n",
              "    <path d=\"M18.56 5.44l.94 2.06.94-2.06 2.06-.94-2.06-.94-.94-2.06-.94 2.06-2.06.94zm-11 1L8.5 8.5l.94-2.06 2.06-.94-2.06-.94L8.5 2.5l-.94 2.06-2.06.94zm10 10l.94 2.06.94-2.06 2.06-.94-2.06-.94-.94-2.06-.94 2.06-2.06.94z\"/><path d=\"M17.41 7.96l-1.37-1.37c-.4-.4-.92-.59-1.43-.59-.52 0-1.04.2-1.43.59L10.3 9.45l-7.72 7.72c-.78.78-.78 2.05 0 2.83L4 21.41c.39.39.9.59 1.41.59.51 0 1.02-.2 1.41-.59l7.78-7.78 2.81-2.81c.8-.78.8-2.07 0-2.86zM5.41 20L4 18.59l7.72-7.72 1.47 1.35L5.41 20z\"/>\n",
              "  </svg>\n",
              "      </button>\n",
              "      \n",
              "  <style>\n",
              "    .colab-df-container {\n",
              "      display:flex;\n",
              "      flex-wrap:wrap;\n",
              "      gap: 12px;\n",
              "    }\n",
              "\n",
              "    .colab-df-convert {\n",
              "      background-color: #E8F0FE;\n",
              "      border: none;\n",
              "      border-radius: 50%;\n",
              "      cursor: pointer;\n",
              "      display: none;\n",
              "      fill: #1967D2;\n",
              "      height: 32px;\n",
              "      padding: 0 0 0 0;\n",
              "      width: 32px;\n",
              "    }\n",
              "\n",
              "    .colab-df-convert:hover {\n",
              "      background-color: #E2EBFA;\n",
              "      box-shadow: 0px 1px 2px rgba(60, 64, 67, 0.3), 0px 1px 3px 1px rgba(60, 64, 67, 0.15);\n",
              "      fill: #174EA6;\n",
              "    }\n",
              "\n",
              "    [theme=dark] .colab-df-convert {\n",
              "      background-color: #3B4455;\n",
              "      fill: #D2E3FC;\n",
              "    }\n",
              "\n",
              "    [theme=dark] .colab-df-convert:hover {\n",
              "      background-color: #434B5C;\n",
              "      box-shadow: 0px 1px 3px 1px rgba(0, 0, 0, 0.15);\n",
              "      filter: drop-shadow(0px 1px 2px rgba(0, 0, 0, 0.3));\n",
              "      fill: #FFFFFF;\n",
              "    }\n",
              "  </style>\n",
              "\n",
              "      <script>\n",
              "        const buttonEl =\n",
              "          document.querySelector('#df-e78b0a3e-ac2b-46b4-9d3e-e295e60248c2 button.colab-df-convert');\n",
              "        buttonEl.style.display =\n",
              "          google.colab.kernel.accessAllowed ? 'block' : 'none';\n",
              "\n",
              "        async function convertToInteractive(key) {\n",
              "          const element = document.querySelector('#df-e78b0a3e-ac2b-46b4-9d3e-e295e60248c2');\n",
              "          const dataTable =\n",
              "            await google.colab.kernel.invokeFunction('convertToInteractive',\n",
              "                                                     [key], {});\n",
              "          if (!dataTable) return;\n",
              "\n",
              "          const docLinkHtml = 'Like what you see? Visit the ' +\n",
              "            '<a target=\"_blank\" href=https://colab.research.google.com/notebooks/data_table.ipynb>data table notebook</a>'\n",
              "            + ' to learn more about interactive tables.';\n",
              "          element.innerHTML = '';\n",
              "          dataTable['output_type'] = 'display_data';\n",
              "          await google.colab.output.renderOutput(dataTable, element);\n",
              "          const docLink = document.createElement('div');\n",
              "          docLink.innerHTML = docLinkHtml;\n",
              "          element.appendChild(docLink);\n",
              "        }\n",
              "      </script>\n",
              "    </div>\n",
              "  </div>\n",
              "  "
            ],
            "text/plain": [
              "         loss       mae       mse  val_loss   val_mae   val_mse  epoch\n",
              "995  0.237715  0.477422  0.237715  0.226920  0.466008  0.226920    995\n",
              "996  0.236661  0.475276  0.236661  0.231207  0.476651  0.231207    996\n",
              "997  0.238305  0.478137  0.238305  0.229457  0.473136  0.229457    997\n",
              "998  0.237381  0.478528  0.237381  0.227633  0.468464  0.227633    998\n",
              "999  0.237408  0.477898  0.237408  0.227408  0.467773  0.227408    999"
            ]
          },
          "metadata": {},
          "execution_count": 39
        }
      ]
    },
    {
      "cell_type": "code",
      "source": [
        "def plot_history(history):\n",
        "  hist = pd.DataFrame(history.history)\n",
        "  hist['epoch'] = history.epoch\n",
        "\n",
        "  plt.figure()\n",
        "  plt.xlabel('Epoch')\n",
        "  plt.ylabel('Mean Abs Error [sexo]')\n",
        "  plt.plot(hist['epoch'], hist['mae'],\n",
        "           label='Train Error')\n",
        "  plt.plot(hist['epoch'], hist['val_mae'],\n",
        "           label = 'Val Error')\n",
        "  plt.ylim([0,5])\n",
        "  plt.legend()\n",
        "\n",
        "  plt.figure()\n",
        "  plt.xlabel('Epoch')\n",
        "  plt.ylabel('Mean Square Error [$sexo^2$]')\n",
        "  plt.plot(hist['epoch'], hist['mse'],\n",
        "           label='Train Error')\n",
        "  plt.plot(hist['epoch'], hist['val_mse'],\n",
        "           label = 'Val Error')\n",
        "  plt.ylim([0,20])\n",
        "  plt.legend()\n",
        "  plt.show()\n",
        "\n",
        "\n",
        "plot_history(history)"
      ],
      "metadata": {
        "colab": {
          "base_uri": "https://localhost:8080/",
          "height": 549
        },
        "id": "TJWmsibDnSNj",
        "outputId": "7f070366-b180-4793-b68d-aa7c62634339"
      },
      "execution_count": 40,
      "outputs": [
        {
          "output_type": "display_data",
          "data": {
            "image/png": "[encoded data removed]",
            "text/plain": [
              "<Figure size 432x288 with 1 Axes>"
            ]
          },
          "metadata": {
            "needs_background": "light"
          }
        },
        {
          "output_type": "display_data",
          "data": {
            "image/png": "[encoded data removed]",
            "text/plain": [
              "<Figure size 432x288 with 1 Axes>"
            ]
          },
          "metadata": {
            "needs_background": "light"
          }
        }
      ]
    },
    {
      "cell_type": "code",
      "source": [
        "model = build_model()\n",
        "\n",
        "# The patience parameter is the amount of epochs to check for improvement\n",
        "early_stop = keras.callbacks.EarlyStopping(monitor='val_loss', patience=30)\n",
        "\n",
        "history = model.fit(normed_train_data, train_labels, epochs=EPOCHS,\n",
        "                    validation_split = 0.2, verbose=0, callbacks=[early_stop, PrintDot()])\n",
        "\n",
        "plot_history(history)"
      ],
      "metadata": {
        "colab": {
          "base_uri": "https://localhost:8080/",
          "height": 584
        },
        "id": "oX9b9Roon3um",
        "outputId": "c21950b1-a9a1-4a0f-b029-69c2fb55da4c"
      },
      "execution_count": 41,
      "outputs": [
        {
          "output_type": "stream",
          "name": "stdout",
          "text": [
            "\n",
            "NcmNcmNcmNcmNcmNcmNcmNcmNcmNcmNcmNcmNcmNcmNcmNcmNcmNcmNcmNcmNcmNcmNcmNcmNcmNcmNcmNcmNcmNcmNcmNcmNcmNcmNcmNcmNcmNcmNcm"
          ]
        },
        {
          "output_type": "display_data",
          "data": {
            "image/png": "[encoded data removed]",
            "text/plain": [
              "<Figure size 432x288 with 1 Axes>"
            ]
          },
          "metadata": {
            "needs_background": "light"
          }
        },
        {
          "output_type": "display_data",
          "data": {
            "image/png": "[encoded data removed]",
            "text/plain": [
              "<Figure size 432x288 with 1 Axes>"
            ]
          },
          "metadata": {
            "needs_background": "light"
          }
        }
      ]
    },
    {
      "cell_type": "code",
      "source": [
        "test_predictions = model.predict(normed_test_data).flatten()\n",
        "\n",
        "plt.scatter(test_labels, test_predictions)\n",
        "plt.xlabel('True Values [sexo_]')\n",
        "plt.ylabel('Predictions [sexo_]')\n",
        "plt.axis('equal')\n",
        "plt.axis('square')\n",
        "plt.xlim([0,plt.xlim()[1]])\n",
        "plt.ylim([0,plt.ylim()[1]])\n",
        "_ = plt.plot([-100, 100], [-100, 100])"
      ],
      "metadata": {
        "colab": {
          "base_uri": "https://localhost:8080/",
          "height": 280
        },
        "id": "Pt-RJaF5oT9W",
        "outputId": "b3324d42-aa03-4645-d944-c8826dbc6e73"
      },
      "execution_count": 42,
      "outputs": [
        {
          "output_type": "display_data",
          "data": {
            "image/png": "[encoded data removed]",
            "text/plain": [
              "<Figure size 432x288 with 1 Axes>"
            ]
          },
          "metadata": {
            "needs_background": "light"
          }
        }
      ]
    },
    {
      "cell_type": "code",
      "source": [
        "error = test_predictions - test_labels\n",
        "plt.hist(error, bins = 25)\n",
        "plt.xlabel(\"Prediction Error [sexo_]\")\n",
        "_ = plt.ylabel(\"Count\")"
      ],
      "metadata": {
        "colab": {
          "base_uri": "https://localhost:8080/",
          "height": 280
        },
        "id": "ez9B03_Wozsp",
        "outputId": "350c73ff-05bf-4511-f9eb-37e94503d52d"
      },
      "execution_count": 43,
      "outputs": [
        {
          "output_type": "display_data",
          "data": {
            "image/png": "[encoded data removed]",
            "text/plain": [
              "<Figure size 432x288 with 1 Axes>"
            ]
          },
          "metadata": {
            "needs_background": "light"
          }
        }
      ]
    },
    {
      "cell_type": "code",
      "source": [
        "loss, mae, mse = model.evaluate(normed_test_data, test_labels, verbose=2)\n",
        "\n",
        "print(\"Testing set Mean Abs Error: {:5.2f} Sexo_\".format(mae))"
      ],
      "metadata": {
        "colab": {
          "base_uri": "https://localhost:8080/"
        },
        "id": "vtRhEH12qYdC",
        "outputId": "74dd5ee3-362a-4d07-fa79-3fbaecc0d2da"
      },
      "execution_count": 45,
      "outputs": [
        {
          "output_type": "stream",
          "name": "stdout",
          "text": [
            "7/7 - 0s - loss: 0.2359 - mae: 0.4801 - mse: 0.2359 - 29ms/epoch - 4ms/step\n",
            "Testing set Mean Abs Error:  0.48 Sexo_\n"
          ]
        }
      ]
    },
    {
      "cell_type": "code",
      "source": [
        "from sklearn.ensemble import RandomForestRegressor\n",
        "from sklearn.metrics import mean_squared_error, mean_absolute_error\n",
        "\n",
        "modelRF = RandomForestRegressor(n_estimators=10, random_state=0)\n",
        "\n",
        "modelRF.fit(train_dataset, train_labels)\n",
        "preds_test= modelRF.predict(test_dataset)\n",
        "\n",
        "print('MSE RF : %.3f' % mean_squared_error(test_labels, preds_test, squared=True))\n",
        "print('MSE DL : %.3f' % mse)\n",
        "print('MAE RF : %.3f' % mean_absolute_error(test_labels, preds_test))\n",
        "print('MAE DL : %.3f' % mae)"
      ],
      "metadata": {
        "colab": {
          "base_uri": "https://localhost:8080/"
        },
        "id": "CcjTVSA9qjZl",
        "outputId": "69421cb7-aedb-42aa-bf4c-76de0a5a0de1"
      },
      "execution_count": 46,
      "outputs": [
        {
          "output_type": "stream",
          "name": "stdout",
          "text": [
            "MSE RF : 0.218\n",
            "MSE DL : 0.236\n",
            "MAE RF : 0.357\n",
            "MAE DL : 0.480\n"
          ]
        }
      ]
    },
    {
      "cell_type": "code",
      "source": [
        "from ann_visualizer.visualize import ann_viz;\n",
        "ann_viz(model, title=\"Artificial Neural network - Sexo_\");"
      ],
      "metadata": {
        "colab": {
          "base_uri": "https://localhost:8080/",
          "height": 322
        },
        "id": "i-FssF4Wqmow",
        "outputId": "35136231-a681-41bb-fc8a-57c97ef6c957"
      },
      "execution_count": 47,
      "outputs": [
        {
          "output_type": "error",
          "ename": "ModuleNotFoundError",
          "evalue": "ignored",
          "traceback": [
            "\u001b[0;31m---------------------------------------------------------------------------\u001b[0m",
            "\u001b[0;31mModuleNotFoundError\u001b[0m                       Traceback (most recent call last)",
            "\u001b[0;32m<ipython-input-47-33bc96d8eb6f>\u001b[0m in \u001b[0;36m<module>\u001b[0;34m()\u001b[0m\n\u001b[0;32m----> 1\u001b[0;31m \u001b[0;32mfrom\u001b[0m \u001b[0mann_visualizer\u001b[0m\u001b[0;34m.\u001b[0m\u001b[0mvisualize\u001b[0m \u001b[0;32mimport\u001b[0m \u001b[0mann_viz\u001b[0m\u001b[0;34m;\u001b[0m\u001b[0;34m\u001b[0m\u001b[0;34m\u001b[0m\u001b[0m\n\u001b[0m\u001b[1;32m      2\u001b[0m \u001b[0mann_viz\u001b[0m\u001b[0;34m(\u001b[0m\u001b[0mmodel\u001b[0m\u001b[0;34m,\u001b[0m \u001b[0mtitle\u001b[0m\u001b[0;34m=\u001b[0m\u001b[0;34m\"Artificial Neural network - Sexo_\"\u001b[0m\u001b[0;34m)\u001b[0m\u001b[0;34m;\u001b[0m\u001b[0;34m\u001b[0m\u001b[0;34m\u001b[0m\u001b[0m\n",
            "\u001b[0;31mModuleNotFoundError\u001b[0m: No module named 'ann_visualizer'",
            "",
            "\u001b[0;31m---------------------------------------------------------------------------\u001b[0;32m\nNOTE: If your import is failing due to a missing package, you can\nmanually install dependencies using either !pip or !apt.\n\nTo view examples of installing some common dependencies, click the\n\"Open Examples\" button below.\n\u001b[0;31m---------------------------------------------------------------------------\u001b[0m\n"
          ],
          "errorDetails": {
            "actions": [
              {
                "action": "open_url",
                "actionText": "Open Examples",
                "url": "/notebooks/snippets/importing_libraries.ipynb"
              }
            ]
          }
        }
      ]
    }
  ]
}